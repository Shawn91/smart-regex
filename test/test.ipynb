{
 "cells": [
  {
   "cell_type": "code",
   "execution_count": 2,
   "metadata": {},
   "outputs": [],
   "source": [
    "import re\n",
    "import sys\n",
    "import os\n",
    "import datetime\n",
    "sys.path.append('E:\\Study\\my_github\\smart regex')\n",
    "\n",
    "import smart_regex as sr\n",
    "\n",
    "# %load_ext line_profiler\n",
    "%load_ext autoreload\n",
    "%autoreload 2"
   ]
  },
  {
   "cell_type": "code",
   "execution_count": 3,
   "metadata": {},
   "outputs": [],
   "source": [
    "patterns = \"\"\"\n",
    "    name | (姓 *名([一-龥*]{2,3}))\n",
    "name | (姓 *名([a-z]{3,10}))\n",
    "#name | ((([一-龥]|欧 *阳|独 *孤|令 *狐|皇 *甫|夏 *侯|呼 *延|诸 *葛|完 *颜|拓 *跋|公 *孙|宇 *文|北 *野|欧 *文|上 *官|端 *木|轩 *辕|慕 *蓉|公 *叔|司 *寇|百 *里|司 *马|北 *门|拓 *拔|慕 *容|独 *狐|爱 *新 *觉 *罗|尉 *迟|歐 *陽|叶 *赫 *纳 *拉|兀 *颜|司 *徒|耶 *律|单 *于|西 *门|公 *延|第 *五|令 *孤|北 *堂|蔚 *迟|西 *伯|申 *屠|公 *输)(先 *生|女 *士)))\n",
    "email | ([a-zA-Z0-9._%+-]+@[a-zA-Z0-9.-]+\\.[a-zA-Z]{2,4})\n",
    "#phone | (((0086|86)-?)?(1(-| |–)*(3|4|5|6|7|8|9)((-| |–)*(0|1|2|3|4|5|6|7|8|9)(0|1|2|3|4|5|6|7|8|9)+)+))\n",
    "phone_en | (((\\+?\\(?([17]|\\d{2,3})?\\(?[-.\\r ()]{0,3}\\d{2}\\(?\\d[-.\\r\\t ()]*\\d{2,4}[-.\\r\\t ()]*\\d{4,7}) *?))\n",
    "emergent_contact | (((0086|86)-?)?(1[- –]*[3456789]([- –]*\\d{1}){9}))\n",
    "#gender | (女|软?妹 *子|萝 *莉|御 *姐|女 *王|菇 *凉|正 *太|大 *叔|鲜 *肉|男 *神|女 *神|暖 *男|male|female|([亚胜超冠若如润盼想来向])男)\n",
    "age | ((\\d {0,3}){2} {0,4}岁)\n",
    "#height | ((0|1|2|3|4|5|6|7|8|9)+ *(cm|厘 *米))\n",
    "height | (\\d[.]\\d{1,2} {0,4}(m|米))\n",
    "#weight | ((0|1|2|3|4|5|6|7|8|9)(0|1|2|3|4|5|6|7|8|9)+(kg|公 *斤|斤))\n",
    "#marital_status | (已 *婚|未 *婚|保 *密|(已|未)结 *婚)\n",
    "#has_children | (已 *育)\n",
    "birthday | ((((?P<ya>(\\d {0,3}){4})年 {0,4}(?P<ma>(0?[1-9])|(1[0-2]))月 {0,4}((?P<da>(0?[1-9])|([1-2]\\d)|(3[0-1]))日)?|(?P<yb> {0,3}19[5-9]\\d {0,3}| {0,3}20[0-2]\\d {0,3})[.．,/\\-­–—―－一_\\\\、] {0,4}(?P<mb>(0?[1-9])|(1[0-2]))([.．,/\\-­–—―－一_\\\\、] {0,4}(?P<db>(0?[1-9])|([1-2]\\d)|(3[0-1])))?|((?P<dc>(0?[1-9])|([1-2]\\d)|(3[0-1]))/ {0,3})?(?P<mc>(0?[1-9])|(1[0-2]))/ {0,3}(?P<yc>(19|20)(\\d {0,3}){2})|(?P<yd> {0,3}19[5-9]\\d {0,3}| {0,3}20[0-2]\\d {0,3})(?P<md>(0?[1-9])|(1[0-2]))((?P<dd>(0?[1-9])|([1-2]\\d)|(3[0-1])))?|(?P<me>(0?[1-9])|(1[0-2]))月/ {0,3}(?P<ye>(19|20)(\\d {0,3}){2})年|(?P<mf>(0?[1-9])|(1[0-2]))/ {0,3}(?P<df>(0?[1-9])|([1-2]\\d)|(3[0-1]))/ {0,3}(?P<yf> {0,3}19[5-9]\\d {0,3}| {0,3}20[0-2]\\d {0,3})|(?P<yx>(\\d {0,3}){4})年 *度?|(?P<ybi>[01789]\\d) {0,3}[.．,/\\-­–—―－一_\\\\、年] {0,3}(?P<mbi>\\d{1,2})月?|(?P<ybj>[789]\\d) {0,3}年|(?P<yx1>(19[4-9]\\d|20\\d{2}))))出?生)\n",
    "birthday | (出?生 *于(((?P<ya>(\\d {0,3}){4})年 {0,4}(?P<ma>(0?[1-9])|(1[0-2]))月 {0,4}((?P<da>(0?[1-9])|([1-2]\\d)|(3[0-1]))日)?|(?P<yb> {0,3}19[5-9]\\d {0,3}| {0,3}20[0-2]\\d {0,3})[.．,/\\-­–—―－一_\\\\、] {0,4}(?P<mb>(0?[1-9])|(1[0-2]))([.．,/\\-­–—―－一_\\\\、] {0,4}(?P<db>(0?[1-9])|([1-2]\\d)|(3[0-1])))?|((?P<dc>(0?[1-9])|([1-2]\\d)|(3[0-1]))/ {0,3})?(?P<mc>(0?[1-9])|(1[0-2]))/ {0,3}(?P<yc>(19|20)(\\d {0,3}){2})|(?P<yd> {0,3}19[5-9]\\d {0,3}| {0,3}20[0-2]\\d {0,3})(?P<md>(0?[1-9])|(1[0-2]))((?P<dd>(0?[1-9])|([1-2]\\d)|(3[0-1])))?|(?P<me>(0?[1-9])|(1[0-2]))月/ {0,3}(?P<ye>(19|20)(\\d {0,3}){2})年|(?P<mf>(0?[1-9])|(1[0-2]))/ {0,3}(?P<df>(0?[1-9])|([1-2]\\d)|(3[0-1]))/ {0,3}(?P<yf> {0,3}19[5-9]\\d {0,3}| {0,3}20[0-2]\\d {0,3})|(?P<yx>(\\d {0,3}){4})年 *度?|(?P<ybi>[01789]\\d) {0,3}[.．,/\\-­–—―－一_\\\\、年] {0,3}(?P<mbi>\\d{1,2})月?|(?P<ybj>[789]\\d) {0,3}年|(?P<yx1>(19[4-9]\\d|20\\d{2})))))\n",
    "#race | ((汉|壮|满|回|苗|维|维 *吾 *尔|土 *家|彝|蒙 *古|蒙|藏|布 *依|侗|瑶|朝 *鲜|白|哈 *尼|哈 *萨 *克|黎|傣)( *族))\n",
    "#polit_status | ((党 *员|中 *共 *党 *员|共 *产 *党 *员|共 *产 *党 *党 *员|中 *国 *共 *产 *党 *党 *员|团 *员|共 *青 *团 *员|无 *党 *派 *人 *士|群 *众))\n",
    "polit_status | (^|[^a-z0-9一-龥])(([一-龥])(党 *员|中 *共 *党 *员|共 *产 *党 *员|共 *产 *党 *党 *员|中 *国 *共 *产 *党 *党 *员|团 *员|共 *青 *团 *员|群 *众))($|[^a-z0-9一-龥])\n",
    "#github | ((https?://)?(www.)?github[.]com/(^| \\||;|.|/)+)\n",
    "#github | ((https?://)?(^| \\||;|.|/)+.github.io)\n",
    "#linkedin | ((https?://)?(www.)?linkedin.com/in/(^| \\||;|.|/)+)\n",
    "#work_year | (((0|1|2|3|4|5|6|7|8|9)+(.|\\|-|~)(0|1|2|3|4|5|6|7|8|9)|年(\\+|以 *上)?)工 *作 *经 *验)\n",
    "work_year | (([两一二三四五六七八九十\\d]{1,3} {0,4}(年|个 *月)(\\+|以 *上|半)?)[a-z一-龥]{0,5}工 *作 *经 *验)\n",
    "$work_year | (应 *届(毕 *业)?生)\n",
    "grad_time | ((((?P<ya>(\\d {0,3}){4})年 {0,4}(?P<ma>(0?[1-9])|(1[0-2]))月 {0,4}((?P<da>(0?[1-9])|([1-2]\\d)|(3[0-1]))日)?|(?P<yb> {0,3}19[5-9]\\d {0,3}| {0,3}20[0-2]\\d {0,3})[.．,/\\-­–—―－一_\\\\、] {0,4}(?P<mb>(0?[1-9])|(1[0-2]))([.．,/\\-­–—―－一_\\\\、] {0,4}(?P<db>(0?[1-9])|([1-2]\\d)|(3[0-1])))?|((?P<dc>(0?[1-9])|([1-2]\\d)|(3[0-1]))/ {0,3})?(?P<mc>(0?[1-9])|(1[0-2]))/ {0,3}(?P<yc>(19|20)(\\d {0,3}){2})|(?P<yd> {0,3}19[5-9]\\d {0,3}| {0,3}20[0-2]\\d {0,3})(?P<md>(0?[1-9])|(1[0-2]))((?P<dd>(0?[1-9])|([1-2]\\d)|(3[0-1])))?|(?P<me>(0?[1-9])|(1[0-2]))月/ {0,3}(?P<ye>(19|20)(\\d {0,3}){2})年|(?P<mf>(0?[1-9])|(1[0-2]))/ {0,3}(?P<df>(0?[1-9])|([1-2]\\d)|(3[0-1]))/ {0,3}(?P<yf> {0,3}19[5-9]\\d {0,3}| {0,3}20[0-2]\\d {0,3})|(?P<yx>(\\d {0,3}){4})年 *度?))毕 *业)\n",
    "#grad_time | ((0|1|2|3|4|5|6|7|8|9)(0|1|2|3|4|5|6|7|8|9)(0|1|2|3|4|5|6|7|8|9)(0|1|2|3|4|5|6|7|8|9)(届|级))\n",
    "#college | ((大 *学|学 *院|学 *校|分 *校|中 *学|一 *中))\n",
    "#degree | ((学 *士|bachelor|硕 *士|master|phd|双 *学 *士)|(中 *专|高 *中|high school|大 *专|专 *科|自 *考 *本 *科|成 *人 *本 *科|一 *本|二 *本|三 *本|本 *科|硕 *士|博 *士 *后|博 *后|博 *士|学 *士|双 *学 *士|研 *究 *生|mba|mpa|emba|cmba|大 *学 *肄 *业|undergraduate)(研 *究 *生)?(学 *位)?|(中 *技|高 *技))\n",
    "degree | (^|[^a-z0-9一-龥])((小 *学|初 *中))($|[^a-z0-9一-龥])\n",
    "major | (([a-z一-龥]{2,10})(专 *业|系)(?![一-龥]))\n",
    "#constellation | ((摩 *羯|水 *瓶|双 *鱼|白 *羊|金 *牛|双 *子|巨 *蟹|狮 *子|处 *女|天 *秤|天 *蝎|射 *手)座?)\n",
    "#blood_type | ((o|a|b|ab) *型)\n",
    "email_subject | (?P<key>^民航资源网招聘频道用户) *[: ] *([^ |:]+)\n",
    "edu_period | ((?P<vo_period>((?P<ya1>(\\d {0,3}){4})[.．,/\\-­–—―－一_\\\\、年] {0,3}(?P<ma1>(\\d {0,3}){1,2})月? {0,3}[~\\-­–—―－一至到]{1,6} {0,3}((?P<yb1>(\\d {0,3}){4})[.．,/\\-­–—―－一_\\\\、年] {0,3}(?P<mb1>(\\d {0,3}){1,2})月?|今|至 *今|现 *今|现 *在|当 *前|目 *前|now|current|present|ongoing|毕 *业 *时 *间)|(?P<ya2>(\\d {0,3}){4}) {0,3}[.．,/\\-­–—―－一_\\\\、]? ?(?P<ma2>(\\d {0,3}){1,2})[.．,/\\-­–—―－一_\\\\、]?(?P<da2>(\\d {0,3}){1,2})? {0,3}[~\\-­–—―－一至到]{1,6} {0,3}((?P<yb2>(\\d {0,3}){4}) {0,3}[.．,/\\-­–—―－一_\\\\、]? ?(?P<mb2>(\\d {0,3}){1,2})[.．,/\\-­–—―－一_\\\\、]?(?P<db2>(\\d {0,3}){1,2})?|今|至 *今|现 *今|现 *在|当 *前|目 *前|now|current|present|ongoing)|(?P<ma3>(\\d {0,3}){1,2})[.．,/\\-­–—―－一_\\\\、,] {0,3}(?P<ya3>(\\d {0,3}){4}) {0,3}[~\\-­–—―－一至到]{1,6} {0,3}((?P<mb3>(\\d {0,3}){1,2})[.．,/\\-­–—―－一_\\\\、,] {0,3}(?P<yb3>(\\d {0,3}){4})|今|至 *今|现 *今|现 *在|当 *前|目 *前|now|current|present|ongoing)|(?P<ya4>[12] {0,3}[09] {0,3}(\\d {0,3}){2})年? {0,3}[~\\-­–—―－一至到]{1,6} {0,3}((?P<yb4>[12] {0,3}[09] {0,3}(\\d {0,3}){2})年?|今|至 *今|现 *今|现 *在|当 *前|目 *前|now|current|present|ongoing)|(?P<ya5>(\\d {0,3}){4})[.．,/\\-­–—―－一_\\\\、年] {0,3}(?P<ma5>(\\d {0,3}){1,2})[.．,/\\-­–—―－一_\\\\、月] {0,3}(?P<da5>(\\d {0,3}){1,2})日? {0,3}[~\\-­–—―－一至到]{1,6} {0,3}((?P<yb5>(\\d {0,3}){4})[.．,/\\-­–—―－一_\\\\、年] {0,3}(?P<mb5>(\\d {0,3}){1,2})[.．,/\\-­–—―－一_\\\\、月] {0,3}(?P<db5>(\\d {0,3}){1,2})日?|今|至 *今|现 *今|现 *在|当 *前|目 *前|now|current|present|ongoing)|(?P<ya6>(\\d {0,3}){4})年 {0,3}(?P<ma6>(\\d {0,3}){1,2})月? {0,3}[~\\-­–—―－一至到]{1,4} {0,3}(?P<mb6>(\\d {0,3}){1,2}) {0,3}月|(?P<ya7>\\d{4})[.．/](?P<ma7>\\d{1,2}) {0,3}[~\\-­–—―－一]{1,3} {0,3}(?P<mb7>\\d{1,2})|(?P<ma10>(january|february|march|april|may|june|july|august|september|october|november|december|jan|feb|mar|apr|may|jun|jul|aug|sep|oct|nov|dec))[.．,/\\-­–—―－一_\\\\、 ]{0,4}(?P<ya10>\\d{4}) {0,3}([~\\-­–—―－一]{1,4}|to) {0,3}((?P<mb10>(january|february|march|april|may|june|july|august|september|october|november|december|jan|feb|mar|apr|may|jun|jul|aug|sep|oct|nov|dec))[.．,/\\-­–—―－一_\\\\、 ]{0,4}(?P<yb10>\\d{4})|今|至 *今|现 *今|现 *在|当 *前|目 *前|now|current|present|ongoing)|(?P<ya11>\\d{4})[.．,/\\-­–—―－一_\\\\、 ]{0,4}(?P<ma11>(january|february|march|april|may|june|july|august|september|october|november|december|jan|feb|mar|apr|may|jun|jul|aug|sep|oct|nov|dec)) {0,3}([~\\-­–—―－一]{1,4}|to) {0,3}((?P<yb11>\\d{4})[.．,/\\-­–—―－一_\\\\、 ]{0,4}(?P<mb11>(january|february|march|april|may|june|july|august|september|october|november|december|jan|feb|mar|apr|may|jun|jul|aug|sep|oct|nov|dec))|今|至 *今|现 *今|现 *在|当 *前|目 *前|now|current|present|ongoing)|(?P<ya8>(\\d {0,3}){4}) {0,3}年 {0,3}(?P<ma8>(\\d {0,3}){1,2}) {0,3}月 {0,3}[~\\-­–—―－一至到]{0,6} {0,3}((?P<yb8>(\\d {0,3}){4}) {0,3}年 {0,3}(?P<mb8>(\\d {0,3}){1,2}) {0,3}月?|今|至 *今|现 *今|现 *在|当 *前|目 *前|now|current|present|ongoing)|(?P<ma9>\\d{2})[/](?P<ya9>\\d{2,4})[-~至到]((?P<mb9>\\d{2})/(?P<yb9>\\d{2,4})|今|至 *今|现 *今|现 *在|当 *前|目 *前|now|current|present|ongoing)|(?P<ma22>\\d{2})[/](?P<ya22>\\d{4})[-~至到.．,/\\-­–—―－一_\\\\、]((?P<yb22>\\d{4})/(?P<mb22>\\d{2})|今|至 *今|现 *今|现 *在|当 *前|目 *前|now|current|present|ongoing)|(?P<ya12> {0,3}19[5-9]\\d {0,3}| {0,3}20[0-2]\\d {0,3}). ?(?P<ma12>(0?[1-9])|(1[0-2]))(?P<yb12> {0,3}19[5-9]\\d {0,3}| {0,3}20[0-2]\\d {0,3}). ?(?P<mb12>(0?[1-9])|(1[0-2])))))\n",
    "#edu_time | ((19|20)(0|1|2|3|4|5|6|7|8|9)(0|1|2|3|4|5|6|7|8|9)(届|级))\n",
    "edu_time | ((((?P<ya>(\\d {0,3}){4})年 {0,4}(?P<ma>(0?[1-9])|(1[0-2]))月 {0,4}((?P<da>(0?[1-9])|([1-2]\\d)|(3[0-1]))日)?|(?P<yb> {0,3}19[5-9]\\d {0,3}| {0,3}20[0-2]\\d {0,3})[.．,/\\-­–—―－一_\\\\、] {0,4}(?P<mb>(0?[1-9])|(1[0-2]))([.．,/\\-­–—―－一_\\\\、] {0,4}(?P<db>(0?[1-9])|([1-2]\\d)|(3[0-1])))?|((?P<dc>(0?[1-9])|([1-2]\\d)|(3[0-1]))/ {0,3})?(?P<mc>(0?[1-9])|(1[0-2]))/ {0,3}(?P<yc>(19|20)(\\d {0,3}){2})|(?P<yd> {0,3}19[5-9]\\d {0,3}| {0,3}20[0-2]\\d {0,3})(?P<md>(0?[1-9])|(1[0-2]))((?P<dd>(0?[1-9])|([1-2]\\d)|(3[0-1])))?|(?P<me>(0?[1-9])|(1[0-2]))月/ {0,3}(?P<ye>(19|20)(\\d {0,3}){2})年|(?P<mf>(0?[1-9])|(1[0-2]))/ {0,3}(?P<df>(0?[1-9])|([1-2]\\d)|(3[0-1]))/ {0,3}(?P<yf> {0,3}19[5-9]\\d {0,3}| {0,3}20[0-2]\\d {0,3})|(?P<yx>(\\d {0,3}){4})年 *度?))毕 *业)\n",
    "#edu_time | ((19|20)(0|1|2|3|4|5|6|7|8|9)(0|1|2|3|4|5|6|7|8|9))\n",
    "edu_college | (^|[^a-z0-9一-龥])([一-龥]+(大 *学|学 *院|学 *校|分 *校|中 *学|一 *中))($|[^a-z0-9一-龥])\n",
    "edu_degree | ((学 *士|bachelor|硕 *士|master|phd|双 *学 *士)|(中 *专|高 *中|high school|大 *专|专 *科|自 *考 *本 *科|成 *人 *本 *科|一 *本|二 *本|三 *本|本 *科|硕 *士|博 *士 *后|博 *后|博 *士|学 *士|双 *学 *士|研 *究 *生|mba|mpa|emba|cmba|大 *学 *肄 *业|undergraduate)(研 *究 *生)?(学 *位)?|(中 *技|高 *技)(?![工术]))\n",
    "edu_degree | (^|[^a-z0-9一-龥])((小 *学|初 *中))($|[^a-z0-9一-龥])\n",
    "edu_major | (([a-z一-龥]{2,10})专 *业(?![一-龥]))\n",
    "#edu_recruit | ((非?统 *招|自 *考|在 *职|在 *职 *研|在 *职 *硕 *士|交 *换 *学 *生|交 *换 *生|交 *流 *学 *生|交 *流 *生|在 *读|成 *教|成 *人 *教 *育|退 *学|函 *授|肄 *业|成 *人|专 *升 *本|脱 *产|网 *教|夜 *校|全 *日 *制|非 *全 *日 *制|保 *送))\n",
    "edu_recruit | (^|[^a-z0-9一-龥])(交 *换|交 *流|自 *学)($|[^a-z0-9一-龥])\n",
    "#expect_jnature | (全 *职|兼 *职|实 *习)\n",
    "job_period | ((?P<vo_period>((?P<ya1>(\\d {0,3}){4})[.．,/\\-­–—―－一_\\\\、年] {0,3}(?P<ma1>(\\d {0,3}){1,2})月? {0,3}[~\\-­–—―－一至到]{1,6} {0,3}((?P<yb1>(\\d {0,3}){4})[.．,/\\-­–—―－一_\\\\、年] {0,3}(?P<mb1>(\\d {0,3}){1,2})月?|今|至 *今|现 *今|现 *在|当 *前|目 *前|now|current|present|ongoing|毕 *业 *时 *间)|(?P<ya2>(\\d {0,3}){4}) {0,3}[.．,/\\-­–—―－一_\\\\、]? ?(?P<ma2>(\\d {0,3}){1,2})[.．,/\\-­–—―－一_\\\\、]?(?P<da2>(\\d {0,3}){1,2})? {0,3}[~\\-­–—―－一至到]{1,6} {0,3}((?P<yb2>(\\d {0,3}){4}) {0,3}[.．,/\\-­–—―－一_\\\\、]? ?(?P<mb2>(\\d {0,3}){1,2})[.．,/\\-­–—―－一_\\\\、]?(?P<db2>(\\d {0,3}){1,2})?|今|至 *今|现 *今|现 *在|当 *前|目 *前|now|current|present|ongoing)|(?P<ma3>(\\d {0,3}){1,2})[.．,/\\-­–—―－一_\\\\、,] {0,3}(?P<ya3>(\\d {0,3}){4}) {0,3}[~\\-­–—―－一至到]{1,6} {0,3}((?P<mb3>(\\d {0,3}){1,2})[.．,/\\-­–—―－一_\\\\、,] {0,3}(?P<yb3>(\\d {0,3}){4})|今|至 *今|现 *今|现 *在|当 *前|目 *前|now|current|present|ongoing)|(?P<ya4>[12] {0,3}[09] {0,3}(\\d {0,3}){2})年? {0,3}[~\\-­–—―－一至到]{1,6} {0,3}((?P<yb4>[12] {0,3}[09] {0,3}(\\d {0,3}){2})年?|今|至 *今|现 *今|现 *在|当 *前|目 *前|now|current|present|ongoing)|(?P<ya5>(\\d {0,3}){4})[.．,/\\-­–—―－一_\\\\、年] {0,3}(?P<ma5>(\\d {0,3}){1,2})[.．,/\\-­–—―－一_\\\\、月] {0,3}(?P<da5>(\\d {0,3}){1,2})日? {0,3}[~\\-­–—―－一至到]{1,6} {0,3}((?P<yb5>(\\d {0,3}){4})[.．,/\\-­–—―－一_\\\\、年] {0,3}(?P<mb5>(\\d {0,3}){1,2})[.．,/\\-­–—―－一_\\\\、月] {0,3}(?P<db5>(\\d {0,3}){1,2})日?|今|至 *今|现 *今|现 *在|当 *前|目 *前|now|current|present|ongoing)|(?P<ya6>(\\d {0,3}){4})年 {0,3}(?P<ma6>(\\d {0,3}){1,2})月? {0,3}[~\\-­–—―－一至到]{1,4} {0,3}(?P<mb6>(\\d {0,3}){1,2}) {0,3}月|(?P<ya7>\\d{4})[.．/](?P<ma7>\\d{1,2}) {0,3}[~\\-­–—―－一]{1,3} {0,3}(?P<mb7>\\d{1,2})|(?P<ma10>(january|february|march|april|may|june|july|august|september|october|november|december|jan|feb|mar|apr|may|jun|jul|aug|sep|oct|nov|dec))[.．,/\\-­–—―－一_\\\\、 ]{0,4}(?P<ya10>\\d{4}) {0,3}([~\\-­–—―－一]{1,4}|to) {0,3}((?P<mb10>(january|february|march|april|may|june|july|august|september|october|november|december|jan|feb|mar|apr|may|jun|jul|aug|sep|oct|nov|dec))[.．,/\\-­–—―－一_\\\\、 ]{0,4}(?P<yb10>\\d{4})|今|至 *今|现 *今|现 *在|当 *前|目 *前|now|current|present|ongoing)|(?P<ya11>\\d{4})[.．,/\\-­–—―－一_\\\\、 ]{0,4}(?P<ma11>(january|february|march|april|may|june|july|august|september|october|november|december|jan|feb|mar|apr|may|jun|jul|aug|sep|oct|nov|dec)) {0,3}([~\\-­–—―－一]{1,4}|to) {0,3}((?P<yb11>\\d{4})[.．,/\\-­–—―－一_\\\\、 ]{0,4}(?P<mb11>(january|february|march|april|may|june|july|august|september|october|november|december|jan|feb|mar|apr|may|jun|jul|aug|sep|oct|nov|dec))|今|至 *今|现 *今|现 *在|当 *前|目 *前|now|current|present|ongoing)|(?P<ya8>(\\d {0,3}){4}) {0,3}年 {0,3}(?P<ma8>(\\d {0,3}){1,2}) {0,3}月 {0,3}[~\\-­–—―－一至到]{0,6} {0,3}((?P<yb8>(\\d {0,3}){4}) {0,3}年 {0,3}(?P<mb8>(\\d {0,3}){1,2}) {0,3}月?|今|至 *今|现 *今|现 *在|当 *前|目 *前|now|current|present|ongoing)|(?P<ma9>\\d{2})[/](?P<ya9>\\d{2,4})[-~至到]((?P<mb9>\\d{2})/(?P<yb9>\\d{2,4})|今|至 *今|现 *今|现 *在|当 *前|目 *前|now|current|present|ongoing)|(?P<ma22>\\d{2})[/](?P<ya22>\\d{4})[-~至到.．,/\\-­–—―－一_\\\\、]((?P<yb22>\\d{4})/(?P<mb22>\\d{2})|今|至 *今|现 *今|现 *在|当 *前|目 *前|now|current|present|ongoing)|(?P<ya12> {0,3}19[5-9]\\d {0,3}| {0,3}20[0-2]\\d {0,3}). ?(?P<ma12>(0?[1-9])|(1[0-2]))(?P<yb12> {0,3}19[5-9]\\d {0,3}| {0,3}20[0-2]\\d {0,3}). ?(?P<mb12>(0?[1-9])|(1[0-2])))))\n",
    "job_salary | (((大 *约|约)?(税 *前(月 *薪|年 *薪)?|税 *后(月 *薪|年 *薪)?|固 *薪|浮 *薪)?(￥|￥|人 *名 *币)?(大 *约|约)?(?P<va1>\\d[\\d,.]*) {0,4}(万|k|w)?( {0,4}[~\\-­–—―－一至] {0,4}(?P<va2>\\d[\\d,.]*))? {0,4}(万|(k|w)(?![a-z]))(元|人 *民 *币|美 *元)?(以 *上)?(/天|/周|/月|/年|/m|/y|每 *年|每 *月)?|(大 *约|约)?(税 *前(月 *薪|年 *薪)?|税 *后(月 *薪|年 *薪)?|固 *薪|浮 *薪)?(￥|￥|人 *名 *币)?(大 *约|约)?(?P<vb1>\\d[\\d,.]*) {0,4}(万|k|w)?( {0,4}[~\\-­–—―－一至] {0,4}(?P<vb2>\\d[\\d,.]*))? {0,4}(元|人 *民 *币|美 *元)?(以 *上)?(/天|/周|/月|/年|/m|/y|每 *年|每 *月)|(大 *约|约)?(税 *前(月 *薪|年 *薪)?|税 *后(月 *薪|年 *薪)?|固 *薪|浮 *薪)?(￥|￥|人 *名 *币)?(大 *约|约)?(?P<vc1>\\d[\\d,.]*) {0,4}(万|k|w)?( {0,4}[~\\-­–—―－一至] {0,4}(?P<vc2>\\d[\\d,.]*))? {0,4}(以 *上)?(/月|/年|/m|/y|每 *年|每 *月)))\n",
    "job_cpy | ((在|就|任|供)职 *于([a-z一-龥]{2,25}))\n",
    "job_cpy | ((在|进 *入|工 *作 *于|在 *职 *于|就 *职 *于|任 *职 *于|供 *职 *于)([a-z一-龥()]{2,25}(公 *司|大 *学|医 *院|集 *团|研 *究 *院|网|银 *行|证 *券)))\n",
    "job_cpy_nature | (^|[^a-z0-9一-龥])((上 *市|民 *营|国 *企|央 *企|外 *企|外 *资|美 *资|港 *资|台 *资|日 *企|韩 *企)(公 *司|企 *业))($|[^a-z0-9一-龥])\n",
    "#job_cpy_nature | ((民 *营/私 *营)(公 *司|企 *业))\n",
    "#job_cpy_size | (((0|1|2|3|4|5|6|7|8|9) *)+(~|\\|-|­–|—|―|－|一|至) *((0|1|2|3|4|5|6|7|8|9) *)+人)\n",
    "job_cpy_size | (^|[^a-z0-9一-龥])([a-z一-龥]{0,3}(\\d+ {0,4}人(以 *上|以 *下)?))($|[^a-z0-9一-龥])\n",
    "job_cpy_size | (\\([a-z一-龥]{0,3}(\\d+ {0,4}人(以 *上|以 *下)?)\\))\n",
    "job_cpy_size | (^|[^a-z0-9一-龥])((\\d {0,4})+[~\\-­–—―－一至] {0,4}(\\d {0,4})+人)($|[^a-z0-9一-龥])\n",
    "job_cpy_size | (\\((\\d {0,4})+[~\\-­–—―－一至] {0,4}(\\d {0,4})+人\\))\n",
    "job_dept | (^|[^a-z0-9一-龥])([a-z一-龥]{1,8}部)($|[^a-z0-9一-龥])\n",
    "#job_dept | (所 *在 *部 *门 *:? *(未 *填 *写))\n",
    "#job_nature | (全 *职|兼 *职|实 *习)\n",
    "#job_cpy_financing_situation | ((a|b|c|d|e|a+|天 *使|天 *使+)轮)\n",
    "#job_cpy_financing_situation | ((已|不 *需 *要|无 *需|未)融 *资)\n",
    "#job_cpy_financing_situation | ((已|非|纳 *斯 *达 *克)上 *市)\n",
    "#job_cpy_financing_situation | ((h|港|美)股)\n",
    "proj_period | ((?P<vo_period>((?P<ya1>(\\d {0,3}){4})[.．,/\\-­–—―－一_\\\\、年] {0,3}(?P<ma1>(\\d {0,3}){1,2})月? {0,3}[~\\-­–—―－一至到]{1,6} {0,3}((?P<yb1>(\\d {0,3}){4})[.．,/\\-­–—―－一_\\\\、年] {0,3}(?P<mb1>(\\d {0,3}){1,2})月?|今|至 *今|现 *今|现 *在|当 *前|目 *前|now|current|present|ongoing|毕 *业 *时 *间)|(?P<ya2>(\\d {0,3}){4}) {0,3}[.．,/\\-­–—―－一_\\\\、]? ?(?P<ma2>(\\d {0,3}){1,2})[.．,/\\-­–—―－一_\\\\、]?(?P<da2>(\\d {0,3}){1,2})? {0,3}[~\\-­–—―－一至到]{1,6} {0,3}((?P<yb2>(\\d {0,3}){4}) {0,3}[.．,/\\-­–—―－一_\\\\、]? ?(?P<mb2>(\\d {0,3}){1,2})[.．,/\\-­–—―－一_\\\\、]?(?P<db2>(\\d {0,3}){1,2})?|今|至 *今|现 *今|现 *在|当 *前|目 *前|now|current|present|ongoing)|(?P<ma3>(\\d {0,3}){1,2})[.．,/\\-­–—―－一_\\\\、,] {0,3}(?P<ya3>(\\d {0,3}){4}) {0,3}[~\\-­–—―－一至到]{1,6} {0,3}((?P<mb3>(\\d {0,3}){1,2})[.．,/\\-­–—―－一_\\\\、,] {0,3}(?P<yb3>(\\d {0,3}){4})|今|至 *今|现 *今|现 *在|当 *前|目 *前|now|current|present|ongoing)|(?P<ya4>[12] {0,3}[09] {0,3}(\\d {0,3}){2})年? {0,3}[~\\-­–—―－一至到]{1,6} {0,3}((?P<yb4>[12] {0,3}[09] {0,3}(\\d {0,3}){2})年?|今|至 *今|现 *今|现 *在|当 *前|目 *前|now|current|present|ongoing)|(?P<ya5>(\\d {0,3}){4})[.．,/\\-­–—―－一_\\\\、年] {0,3}(?P<ma5>(\\d {0,3}){1,2})[.．,/\\-­–—―－一_\\\\、月] {0,3}(?P<da5>(\\d {0,3}){1,2})日? {0,3}[~\\-­–—―－一至到]{1,6} {0,3}((?P<yb5>(\\d {0,3}){4})[.．,/\\-­–—―－一_\\\\、年] {0,3}(?P<mb5>(\\d {0,3}){1,2})[.．,/\\-­–—―－一_\\\\、月] {0,3}(?P<db5>(\\d {0,3}){1,2})日?|今|至 *今|现 *今|现 *在|当 *前|目 *前|now|current|present|ongoing)|(?P<ya6>(\\d {0,3}){4})年 {0,3}(?P<ma6>(\\d {0,3}){1,2})月? {0,3}[~\\-­–—―－一至到]{1,4} {0,3}(?P<mb6>(\\d {0,3}){1,2}) {0,3}月|(?P<ya7>\\d{4})[.．/](?P<ma7>\\d{1,2}) {0,3}[~\\-­–—―－一]{1,3} {0,3}(?P<mb7>\\d{1,2})|(?P<ma10>(january|february|march|april|may|june|july|august|september|october|november|december|jan|feb|mar|apr|may|jun|jul|aug|sep|oct|nov|dec))[.．,/\\-­–—―－一_\\\\、 ]{0,4}(?P<ya10>\\d{4}) {0,3}([~\\-­–—―－一]{1,4}|to) {0,3}((?P<mb10>(january|february|march|april|may|june|july|august|september|october|november|december|jan|feb|mar|apr|may|jun|jul|aug|sep|oct|nov|dec))[.．,/\\-­–—―－一_\\\\、 ]{0,4}(?P<yb10>\\d{4})|今|至 *今|现 *今|现 *在|当 *前|目 *前|now|current|present|ongoing)|(?P<ya11>\\d{4})[.．,/\\-­–—―－一_\\\\、 ]{0,4}(?P<ma11>(january|february|march|april|may|june|july|august|september|october|november|december|jan|feb|mar|apr|may|jun|jul|aug|sep|oct|nov|dec)) {0,3}([~\\-­–—―－一]{1,4}|to) {0,3}((?P<yb11>\\d{4})[.．,/\\-­–—―－一_\\\\、 ]{0,4}(?P<mb11>(january|february|march|april|may|june|july|august|september|october|november|december|jan|feb|mar|apr|may|jun|jul|aug|sep|oct|nov|dec))|今|至 *今|现 *今|现 *在|当 *前|目 *前|now|current|present|ongoing)|(?P<ya8>(\\d {0,3}){4}) {0,3}年 {0,3}(?P<ma8>(\\d {0,3}){1,2}) {0,3}月 {0,3}[~\\-­–—―－一至到]{0,6} {0,3}((?P<yb8>(\\d {0,3}){4}) {0,3}年 {0,3}(?P<mb8>(\\d {0,3}){1,2}) {0,3}月?|今|至 *今|现 *今|现 *在|当 *前|目 *前|now|current|present|ongoing)|(?P<ma9>\\d{2})[/](?P<ya9>\\d{2,4})[-~至到]((?P<mb9>\\d{2})/(?P<yb9>\\d{2,4})|今|至 *今|现 *今|现 *在|当 *前|目 *前|now|current|present|ongoing)|(?P<ma22>\\d{2})[/](?P<ya22>\\d{4})[-~至到.．,/\\-­–—―－一_\\\\、]((?P<yb22>\\d{4})/(?P<mb22>\\d{2})|今|至 *今|现 *今|现 *在|当 *前|目 *前|now|current|present|ongoing)|(?P<ya12> {0,3}19[5-9]\\d {0,3}| {0,3}20[0-2]\\d {0,3}). ?(?P<ma12>(0?[1-9])|(1[0-2]))(?P<yb12> {0,3}19[5-9]\\d {0,3}| {0,3}20[0-2]\\d {0,3}). ?(?P<mb12>(0?[1-9])|(1[0-2])))))\n",
    "train_period | ((?P<vo_period>((?P<ya1>(\\d {0,3}){4})[.．,/\\-­–—―－一_\\\\、年] {0,3}(?P<ma1>(\\d {0,3}){1,2})月? {0,3}[~\\-­–—―－一至到]{1,6} {0,3}((?P<yb1>(\\d {0,3}){4})[.．,/\\-­–—―－一_\\\\、年] {0,3}(?P<mb1>(\\d {0,3}){1,2})月?|今|至 *今|现 *今|现 *在|当 *前|目 *前|now|current|present|ongoing|毕 *业 *时 *间)|(?P<ya2>(\\d {0,3}){4}) {0,3}[.．,/\\-­–—―－一_\\\\、]? ?(?P<ma2>(\\d {0,3}){1,2})[.．,/\\-­–—―－一_\\\\、]?(?P<da2>(\\d {0,3}){1,2})? {0,3}[~\\-­–—―－一至到]{1,6} {0,3}((?P<yb2>(\\d {0,3}){4}) {0,3}[.．,/\\-­–—―－一_\\\\、]? ?(?P<mb2>(\\d {0,3}){1,2})[.．,/\\-­–—―－一_\\\\、]?(?P<db2>(\\d {0,3}){1,2})?|今|至 *今|现 *今|现 *在|当 *前|目 *前|now|current|present|ongoing)|(?P<ma3>(\\d {0,3}){1,2})[.．,/\\-­–—―－一_\\\\、,] {0,3}(?P<ya3>(\\d {0,3}){4}) {0,3}[~\\-­–—―－一至到]{1,6} {0,3}((?P<mb3>(\\d {0,3}){1,2})[.．,/\\-­–—―－一_\\\\、,] {0,3}(?P<yb3>(\\d {0,3}){4})|今|至 *今|现 *今|现 *在|当 *前|目 *前|now|current|present|ongoing)|(?P<ya4>[12] {0,3}[09] {0,3}(\\d {0,3}){2})年? {0,3}[~\\-­–—―－一至到]{1,6} {0,3}((?P<yb4>[12] {0,3}[09] {0,3}(\\d {0,3}){2})年?|今|至 *今|现 *今|现 *在|当 *前|目 *前|now|current|present|ongoing)|(?P<ya5>(\\d {0,3}){4})[.．,/\\-­–—―－一_\\\\、年] {0,3}(?P<ma5>(\\d {0,3}){1,2})[.．,/\\-­–—―－一_\\\\、月] {0,3}(?P<da5>(\\d {0,3}){1,2})日? {0,3}[~\\-­–—―－一至到]{1,6} {0,3}((?P<yb5>(\\d {0,3}){4})[.．,/\\-­–—―－一_\\\\、年] {0,3}(?P<mb5>(\\d {0,3}){1,2})[.．,/\\-­–—―－一_\\\\、月] {0,3}(?P<db5>(\\d {0,3}){1,2})日?|今|至 *今|现 *今|现 *在|当 *前|目 *前|now|current|present|ongoing)|(?P<ya6>(\\d {0,3}){4})年 {0,3}(?P<ma6>(\\d {0,3}){1,2})月? {0,3}[~\\-­–—―－一至到]{1,4} {0,3}(?P<mb6>(\\d {0,3}){1,2}) {0,3}月|(?P<ya7>\\d{4})[.．/](?P<ma7>\\d{1,2}) {0,3}[~\\-­–—―－一]{1,3} {0,3}(?P<mb7>\\d{1,2})|(?P<ma10>(january|february|march|april|may|june|july|august|september|october|november|december|jan|feb|mar|apr|may|jun|jul|aug|sep|oct|nov|dec))[.．,/\\-­–—―－一_\\\\、 ]{0,4}(?P<ya10>\\d{4}) {0,3}([~\\-­–—―－一]{1,4}|to) {0,3}((?P<mb10>(january|february|march|april|may|june|july|august|september|october|november|december|jan|feb|mar|apr|may|jun|jul|aug|sep|oct|nov|dec))[.．,/\\-­–—―－一_\\\\、 ]{0,4}(?P<yb10>\\d{4})|今|至 *今|现 *今|现 *在|当 *前|目 *前|now|current|present|ongoing)|(?P<ya11>\\d{4})[.．,/\\-­–—―－一_\\\\、 ]{0,4}(?P<ma11>(january|february|march|april|may|june|july|august|september|october|november|december|jan|feb|mar|apr|may|jun|jul|aug|sep|oct|nov|dec)) {0,3}([~\\-­–—―－一]{1,4}|to) {0,3}((?P<yb11>\\d{4})[.．,/\\-­–—―－一_\\\\、 ]{0,4}(?P<mb11>(january|february|march|april|may|june|july|august|september|october|november|december|jan|feb|mar|apr|may|jun|jul|aug|sep|oct|nov|dec))|今|至 *今|现 *今|现 *在|当 *前|目 *前|now|current|present|ongoing)|(?P<ya8>(\\d {0,3}){4}) {0,3}年 {0,3}(?P<ma8>(\\d {0,3}){1,2}) {0,3}月 {0,3}[~\\-­–—―－一至到]{0,6} {0,3}((?P<yb8>(\\d {0,3}){4}) {0,3}年 {0,3}(?P<mb8>(\\d {0,3}){1,2}) {0,3}月?|今|至 *今|现 *今|现 *在|当 *前|目 *前|now|current|present|ongoing)|(?P<ma9>\\d{2})[/](?P<ya9>\\d{2,4})[-~至到]((?P<mb9>\\d{2})/(?P<yb9>\\d{2,4})|今|至 *今|现 *今|现 *在|当 *前|目 *前|now|current|present|ongoing)|(?P<ma22>\\d{2})[/](?P<ya22>\\d{4})[-~至到.．,/\\-­–—―－一_\\\\、]((?P<yb22>\\d{4})/(?P<mb22>\\d{2})|今|至 *今|现 *今|现 *在|当 *前|目 *前|now|current|present|ongoing)|(?P<ya12> {0,3}19[5-9]\\d {0,3}| {0,3}20[0-2]\\d {0,3}). ?(?P<ma12>(0?[1-9])|(1[0-2]))(?P<yb12> {0,3}19[5-9]\\d {0,3}| {0,3}20[0-2]\\d {0,3}). ?(?P<mb12>(0?[1-9])|(1[0-2])))))\n",
    "\"\"\"\n",
    "patterns = [[x.strip() for x in p.split('|', 1)] for p in patterns.split('\\n') if p.startswith('#')]"
   ]
  },
  {
   "cell_type": "code",
   "execution_count": 4,
   "metadata": {},
   "outputs": [
    {
     "name": "stdout",
     "output_type": "stream",
     "text": [
      "['#phone', '(((0086|86)-?)?(1(-| |–)*(3|4|5|6|7|8|9)((-| |–)*(0|1|2|3|4|5|6|7|8|9)(0|1|2|3|4|5|6|7|8|9)+)+))']\n",
      "['#job_cpy_size', '(((0|1|2|3|4|5|6|7|8|9) *)+(~|\\\\|-|\\xad–|—|―|－|一|至) *((0|1|2|3|4|5|6|7|8|9) *)+人)']\n"
     ]
    }
   ],
   "source": [
    "re_patterns = [re.compile(pat[1]) for pat in patterns]\n",
    "\n",
    "sr_patterns = []\n",
    "for pat in patterns:\n",
    "    try:\n",
    "        sr_patterns.append((pat[0], sr.compile(pat[1])))\n",
    "    except:\n",
    "        print(pat)\n",
    "sr_patterns = sr_patterns"
   ]
  },
  {
   "cell_type": "code",
   "execution_count": 5,
   "metadata": {},
   "outputs": [],
   "source": [
    "def index_docs(docs=None):\n",
    "    index = {}\n",
    "    for doc_idx, doc in enumerate(docs):\n",
    "        for line_idx, line in enumerate(doc):\n",
    "            for token in sr.generate_ngram_chars(line, 2):\n",
    "                if token not in index:\n",
    "                    index[token] = set()\n",
    "                index[token].add((doc_idx, line_idx))\n",
    "    return index"
   ]
  },
  {
   "cell_type": "code",
   "execution_count": 8,
   "metadata": {},
   "outputs": [],
   "source": [
    "folder = r'E:\\Study\\my_github\\smart regex\\test\\test_data'\n",
    "lines = []\n",
    "for fname in os.listdir(folder):\n",
    "    if fname.endswith('txt'):\n",
    "        with open(os.path.join(folder, fname), encoding='utf-8') as f:\n",
    "            lines.extend(l.strip() for l in f.readlines())\n",
    "            \n",
    "folder = r'E:\\Study\\my_github\\smart regex\\test\\test_data'\n",
    "docs = []\n",
    "for fname in os.listdir(folder):\n",
    "    if fname.endswith('txt'):\n",
    "        with open(os.path.join(folder, fname), encoding='utf-8') as f:\n",
    "            docs.append([l.strip() for l in f.readlines()])"
   ]
  },
  {
   "cell_type": "code",
   "execution_count": 9,
   "metadata": {},
   "outputs": [
    {
     "name": "stdout",
     "output_type": "stream",
     "text": [
      "88.8 ms ± 3.54 ms per loop (mean ± std. dev. of 5 runs, 1 loop each)\n"
     ]
    }
   ],
   "source": [
    "%%timeit -n 1 -r 5\n",
    "# 普通正则匹配时间\n",
    "# re_results = []\n",
    "for line in lines:\n",
    "    for re_pat in re_patterns[:81]:\n",
    "        mat = re_pat.search(line)\n",
    "#         if mat:\n",
    "#             re_results.append(mat.group())"
   ]
  },
  {
   "cell_type": "code",
   "execution_count": 10,
   "metadata": {},
   "outputs": [],
   "source": [
    "# %%timeit -n 1 -r 5\n",
    "# smart regex 匹配时间\n",
    "index = index_docs(docs)\n",
    "\n",
    "sr_results_time = {}\n",
    "\n",
    "for sr_pat in sr_patterns:\n",
    "    now = datetime.datetime.now()\n",
    "    mat = sr_pat[1].search(docs, index)\n",
    "    sr_results_time[sr_pat] = (datetime.datetime.now() - now)"
   ]
  },
  {
   "cell_type": "code",
   "execution_count": 11,
   "metadata": {},
   "outputs": [
    {
     "data": {
      "text/plain": [
       "[(('#polit_status', <data_structs.Expression at 0x1c0a7f6ad30>),\n",
       "  datetime.timedelta(seconds=1, microseconds=805306)),\n",
       " (('#name', <data_structs.Expression at 0x1c0a4dfadd8>),\n",
       "  datetime.timedelta(microseconds=714093)),\n",
       " (('#edu_recruit', <data_structs.Expression at 0x1c0bbdf9470>),\n",
       "  datetime.timedelta(microseconds=549556)),\n",
       " (('#degree', <data_structs.Expression at 0x1c0b2f54748>),\n",
       "  datetime.timedelta(microseconds=494676)),\n",
       " (('#work_year', <data_structs.Expression at 0x1c0ab6daa20>),\n",
       "  datetime.timedelta(microseconds=198446)),\n",
       " (('#job_dept', <data_structs.Expression at 0x1c0bd271860>),\n",
       "  datetime.timedelta(microseconds=164560)),\n",
       " (('#weight', <data_structs.Expression at 0x1c0a5c472e8>),\n",
       "  datetime.timedelta(microseconds=146608)),\n",
       " (('#grad_time', <data_structs.Expression at 0x1c0abcc1438>),\n",
       "  datetime.timedelta(microseconds=141620)),\n",
       " (('#race', <data_structs.Expression at 0x1c0a5d48588>),\n",
       "  datetime.timedelta(microseconds=140624)),\n",
       " (('#edu_time', <data_structs.Expression at 0x1c0bb5941d0>),\n",
       "  datetime.timedelta(microseconds=107712)),\n",
       " (('#job_cpy_financing_situation', <data_structs.Expression at 0x1c0bf3934e0>),\n",
       "  datetime.timedelta(microseconds=96741)),\n",
       " (('#height', <data_structs.Expression at 0x1c0c42584a8>),\n",
       "  datetime.timedelta(microseconds=63829)),\n",
       " (('#gender', <data_structs.Expression at 0x1c0a4f22438>),\n",
       "  datetime.timedelta(microseconds=60836)),\n",
       " (('#edu_time', <data_structs.Expression at 0x1c0bb8b7f60>),\n",
       "  datetime.timedelta(microseconds=59840)),\n",
       " (('#constellation', <data_structs.Expression at 0x1c0bb4b4400>),\n",
       "  datetime.timedelta(microseconds=47873)),\n",
       " (('#job_cpy_financing_situation', <data_structs.Expression at 0x1c0bf1909b0>),\n",
       "  datetime.timedelta(microseconds=30887)),\n",
       " (('#github', <data_structs.Expression at 0x1c0ab264a90>),\n",
       "  datetime.timedelta(microseconds=29948)),\n",
       " (('#job_cpy_nature', <data_structs.Expression at 0x1c0bd189b38>),\n",
       "  datetime.timedelta(microseconds=25927)),\n",
       " (('#linkedin', <data_structs.Expression at 0x1c0ab36d400>),\n",
       "  datetime.timedelta(microseconds=17949)),\n",
       " (('#github', <data_structs.Expression at 0x1c0ab1d79b0>),\n",
       "  datetime.timedelta(microseconds=15929)),\n",
       " (('#college', <data_structs.Expression at 0x1c0abc97940>),\n",
       "  datetime.timedelta(microseconds=13962)),\n",
       " (('#job_cpy_financing_situation', <data_structs.Expression at 0x1c0bd976630>),\n",
       "  datetime.timedelta(microseconds=12964)),\n",
       " (('#marital_status', <data_structs.Expression at 0x1c0a5c47940>),\n",
       "  datetime.timedelta(microseconds=10975)),\n",
       " (('#blood_type', <data_structs.Expression at 0x1c0bb53efd0>),\n",
       "  datetime.timedelta(microseconds=6981)),\n",
       " (('#expect_jnature', <data_structs.Expression at 0x1c0bb9f1320>),\n",
       "  datetime.timedelta(microseconds=5989)),\n",
       " (('#job_nature', <data_structs.Expression at 0x1c0bdd992e8>),\n",
       "  datetime.timedelta(microseconds=4991)),\n",
       " (('#job_cpy_financing_situation', <data_structs.Expression at 0x1c0b893e908>),\n",
       "  datetime.timedelta(microseconds=4988)),\n",
       " (('#has_children', <data_structs.Expression at 0x1c0b893e940>),\n",
       "  datetime.timedelta(microseconds=3985))]"
      ]
     },
     "execution_count": 11,
     "metadata": {},
     "output_type": "execute_result"
    }
   ],
   "source": [
    "sorted(sr_results_time.items(), key=lambda x:x[1], reverse=True)"
   ]
  },
  {
   "cell_type": "code",
   "execution_count": 77,
   "metadata": {},
   "outputs": [
    {
     "name": "stdout",
     "output_type": "stream",
     "text": [
      " "
     ]
    },
    {
     "data": {
      "text/plain": [
       "         10365420 function calls (10263522 primitive calls) in 3.848 seconds\n",
       "\n",
       "   Ordered by: internal time\n",
       "\n",
       "   ncalls  tottime  percall  cumtime  percall filename:lineno(function)\n",
       "     2379    0.578    0.000    2.678    0.001 boolean.py:1287(absorb)\n",
       "  1489490    0.464    0.000    0.600    0.000 boolean.py:892(__eq__)\n",
       "1214042/1213655    0.412    0.000    0.596    0.000 boolean.py:728(__eq__)\n",
       "  4291588    0.403    0.000    0.404    0.000 {built-in method builtins.isinstance}\n",
       "   269622    0.390    0.000    1.026    0.000 boolean.py:1132(__contains__)\n",
       "   276616    0.304    0.000    0.591    0.000 boolean.py:935(__init__)\n",
       " 4059/503    0.279    0.000    3.811    0.008 boolean.py:1142(simplify)\n",
       "   262640    0.257    0.000    0.822    0.000 boolean.py:1030(__init__)\n",
       "   370126    0.170    0.000    0.472    0.000 {built-in method builtins.all}\n",
       "   591619    0.120    0.000    0.153    0.000 boolean.py:941(<genexpr>)\n",
       "   245480    0.095    0.000    0.120    0.000 boolean.py:1065(cancel)\n",
       "   164679    0.066    0.000    0.148    0.000 boolean.py:1140(<genexpr>)\n",
       "   186353    0.048    0.000    0.065    0.000 boolean.py:887(__hash__)\n",
       "48625/3872    0.041    0.000    0.083    0.000 boolean.py:600(literalize)\n",
       "   461078    0.037    0.000    0.037    0.000 {built-in method builtins.len}\n",
       "     9815    0.024    0.000    0.046    0.000 boolean.py:1402(__lt__)\n",
       "61435/11616    0.019    0.000    0.071    0.000 boolean.py:607(<genexpr>)\n",
       "   187901    0.017    0.000    0.017    0.000 {built-in method builtins.hash}\n",
       "    13976    0.015    0.000    0.066    0.000 boolean.py:1117(__init__)\n",
       "    17019    0.012    0.000    0.019    0.000 boolean.py:899(__lt__)\n",
       "    61435    0.012    0.000    0.012    0.000 boolean.py:608(<genexpr>)\n",
       "     8382    0.010    0.000    0.043    0.000 boolean.py:1439(__init__)\n",
       "    26834    0.010    0.000    0.010    0.000 boolean.py:752(__lt__)\n",
       "     3872    0.009    0.000    0.037    0.000 boolean.py:1269(flatten)\n",
       "     5594    0.009    0.000    0.042    0.000 boolean.py:1463(__init__)\n",
       "     2360    0.006    0.000    0.062    0.000 {method 'sort' of 'list' objects}\n",
       "    19560    0.006    0.000    0.008    0.000 boolean.py:852(__eq__)\n",
       "    18360    0.006    0.000    0.008    0.000 boolean.py:827(__eq__)\n",
       " 3872/503    0.005    0.000    3.552    0.007 boolean.py:1167(<listcomp>)\n",
       "      222    0.003    0.000    3.762    0.017 utils.py:67(generate_ngram_chars_logic_exp)\n",
       "    19505    0.002    0.000    0.002    0.000 {method 'append' of 'list' objects}\n",
       "      879    0.002    0.000    0.014    0.000 boolean_operations.py:10(AND)\n",
       "     8440    0.002    0.000    0.002    0.000 {built-in method builtins.min}\n",
       "     2532    0.002    0.000    0.002    0.000 boolean.py:880(__init__)\n",
       "      222    0.002    0.000    3.781    0.017 data_structs.py:118(save_information)\n",
       "     1476    0.002    0.000    0.003    0.000 utils.py:45(generate_ngram_chars)\n",
       "      774    0.001    0.000    0.002    0.000 boolean.py:714(__hash__)\n",
       "     1296    0.001    0.000    0.003    0.000 utils.py:98(<listcomp>)\n",
       "     1296    0.001    0.000    0.001    0.000 utils.py:54(<listcomp>)\n",
       "      222    0.001    0.000    0.003    0.000 utils.py:64(<listcomp>)\n",
       "      296    0.001    0.000    0.078    0.000 data_structs.py:115(set_match)\n",
       "     4293    0.001    0.000    0.001    0.000 boolean.py:704(simplify)\n",
       "       45    0.000    0.000    0.046    0.001 operators.py:10(concat_two_exps)\n",
       "      834    0.000    0.000    0.000    0.000 {built-in method _abc._abc_instancecheck}\n",
       "     15/1    0.000    0.000    3.848    3.848 compile.py:36(compile_tokens_to_expression)\n",
       "      957    0.000    0.000    0.000    0.000 {method 'remove' of 'list' objects}\n",
       "      222    0.000    0.000    0.000    0.000 data_structs.py:143(discard_information)\n",
       "      834    0.000    0.000    0.001    0.000 abc.py:137(__instancecheck__)\n",
       "       90    0.000    0.000    0.000    0.000 data_structs.py:75(get_match_query)\n",
       "       74    0.000    0.000    1.282    0.017 data_structs.py:94(set_exact)\n",
       "       14    0.000    0.000    3.796    0.271 operators.py:52(handle_alter)\n",
       "       74    0.000    0.000    1.235    0.017 data_structs.py:102(set_prefix)\n",
       "       74    0.000    0.000    1.264    0.017 data_structs.py:107(set_suffix)\n",
       "      119    0.000    0.000    0.000    0.000 data_structs.py:59(__init__)\n",
       "      105    0.000    0.000    0.000    0.000 data_structs.py:30(to_exp)\n",
       "      222    0.000    0.000    0.001    0.000 boolean.py:765(__and__)\n",
       "      134    0.000    0.000    0.000    0.000 data_structs.py:12(__init__)\n",
       "      135    0.000    0.000    0.000    0.000 utils.py:27(concat_strings_in_two_containers)\n",
       "      135    0.000    0.000    0.000    0.000 utils.py:42(<listcomp>)\n",
       "      222    0.000    0.000    0.003    0.000 utils.py:57(generate_ngram_chars_for_str_lists)\n",
       "       29    0.000    0.000    0.046    0.002 operators.py:41(concat_exps)\n",
       "      102    0.000    0.000    0.000    0.000 {method 'union' of 'set' objects}\n",
       "        1    0.000    0.000    0.000    0.000 compile.py:12(convert_exp_str_to_tokens)\n",
       "       60    0.000    0.000    0.000    0.000 data_structs.py:156(create_empty_expression)\n",
       "       15    0.000    0.000    0.006    0.000 operators.py:73(handle_star)\n",
       "      300    0.000    0.000    0.000    0.000 {method 'join' of 'str' objects}\n",
       "       74    0.000    0.000    0.000    0.000 data_structs.py:133(_clear_exact)\n",
       "       74    0.000    0.000    0.000    0.000 data_structs.py:112(set_emptyable)\n",
       "        1    0.000    0.000    3.848    3.848 <string>:1(<module>)\n",
       "        1    0.000    0.000    3.848    3.848 {built-in method builtins.exec}\n",
       "       74    0.000    0.000    0.000    0.000 data_structs.py:137(_clean_prefix)\n",
       "       30    0.000    0.000    0.000    0.000 operators.py:75(<genexpr>)\n",
       "       74    0.000    0.000    0.000    0.000 data_structs.py:140(_clean_suffix)\n",
       "       15    0.000    0.000    0.000    0.000 {method 'pop' of 'list' objects}\n",
       "        1    0.000    0.000    0.000    0.000 {method 'disable' of '_lsprof.Profiler' objects}"
      ]
     },
     "metadata": {},
     "output_type": "display_data"
    }
   ],
   "source": [
    "%prun sr.compile_tokens_to_expression('欧 *阳|独 *孤|令 *狐|皇 *甫|夏 *侯|呼 *延|诸 *葛|完 *颜|拓 *跋|公 *孙|宇 *文|北 *野|欧 *文|上 *官|端 *木')"
   ]
  },
  {
   "cell_type": "code",
   "execution_count": null,
   "metadata": {},
   "outputs": [],
   "source": [
    "处理 Match_query is True 的情况"
   ]
  }
 ],
 "metadata": {
  "kernelspec": {
   "display_name": "Python 3",
   "language": "python",
   "name": "python3"
  },
  "language_info": {
   "codemirror_mode": {
    "name": "ipython",
    "version": 3
   },
   "file_extension": ".py",
   "mimetype": "text/x-python",
   "name": "python",
   "nbconvert_exporter": "python",
   "pygments_lexer": "ipython3",
   "version": "3.7.3"
  }
 },
 "nbformat": 4,
 "nbformat_minor": 4
}
