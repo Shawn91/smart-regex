{
 "cells": [
  {
   "cell_type": "code",
   "execution_count": 8,
   "metadata": {},
   "outputs": [
    {
     "name": "stdout",
     "output_type": "stream",
     "text": [
      "The autoreload extension is already loaded. To reload it, use:\n",
      "  %reload_ext autoreload\n"
     ]
    }
   ],
   "source": [
    "import re\n",
    "import sys\n",
    "import os\n",
    "import datetime\n",
    "sys.path.append('E:\\Study\\my_github\\smart regex')\n",
    "\n",
    "import smart_regex as sr\n",
    "\n",
    "%load_ext autoreload\n",
    "%autoreload 2"
   ]
  },
  {
   "cell_type": "code",
   "execution_count": 37,
   "metadata": {},
   "outputs": [],
   "source": [
    "patterns = [\n",
    "    '姓 ?名',\n",
    "    '大专|专科|自考本科|成人本科|本科|硕士|博士|博后|博士后|学士|双学士|研究生|mba',\n",
    "    '(汉|壮|满|回|苗|维|维吾尔|土家|彝|蒙古|蒙|藏|布依|侗|瑶|朝鲜|白|哈尼|哈萨克|黎|傣)( *族)'\n",
    "]"
   ]
  },
  {
   "cell_type": "code",
   "execution_count": 38,
   "metadata": {},
   "outputs": [],
   "source": [
    "re_patterns = [re.compile(pat) for pat in patterns]\n",
    "sr_patterns = [sr.compile(pat) for pat in patterns]"
   ]
  },
  {
   "cell_type": "code",
   "execution_count": 33,
   "metadata": {},
   "outputs": [],
   "source": [
    "folder = r'E:\\Study\\my_github\\smart regex\\test\\test_data'\n",
    "lines = []\n",
    "for fname in os.listdir(folder):\n",
    "    if fname.endswith('txt'):\n",
    "        with open(os.path.join(folder, fname), encoding='utf-8') as f:\n",
    "            lines.extend(l.strip() for l in f.readlines())"
   ]
  },
  {
   "cell_type": "code",
   "execution_count": 34,
   "metadata": {},
   "outputs": [
    {
     "name": "stdout",
     "output_type": "stream",
     "text": [
      "838 µs ± 109 µs per loop (mean ± std. dev. of 5 runs, 1 loop each)\n"
     ]
    }
   ],
   "source": [
    "%%timeit -n 1 -r 5\n",
    "re_results = []\n",
    "for line in lines:\n",
    "    for re_pat in re_patterns:\n",
    "        mat = re_pat.search(line)\n",
    "        if mat:\n",
    "            re_results.append(mat.group())"
   ]
  },
  {
   "cell_type": "code",
   "execution_count": 23,
   "metadata": {},
   "outputs": [
    {
     "name": "stdout",
     "output_type": "stream",
     "text": [
      "4.18 ms ± 740 µs per loop (mean ± std. dev. of 5 runs, 1 loop each)\n"
     ]
    }
   ],
   "source": [
    "%%timeit -n 1 -r 5\n",
    "sr_results = []\n",
    "for line in lines:\n",
    "    for sr_pat in sr_patterns:\n",
    "        mat = sr_pat.search(line)\n",
    "        if mat:\n",
    "            sr_results.append(mat.group())"
   ]
  },
  {
   "cell_type": "code",
   "execution_count": 18,
   "metadata": {},
   "outputs": [
    {
     "data": {
      "text/plain": [
       "<re.Match object; span=(0, 1), match=' '>"
      ]
     },
     "execution_count": 18,
     "metadata": {},
     "output_type": "execute_result"
    }
   ],
   "source": [
    "re.search('.', ' ')"
   ]
  },
  {
   "cell_type": "code",
   "execution_count": 7,
   "metadata": {},
   "outputs": [],
   "source": [
    "# %%timeit -n 1 -r 1\n",
    "def test_sr():\n",
    "#     sr_results = []\n",
    "    for line in lines:\n",
    "        for sr_pat in sr_patterns:\n",
    "            mat = sr_pat.search(line)\n",
    "#             if mat:\n",
    "#                 sr_results.append(mat.group())"
   ]
  },
  {
   "cell_type": "code",
   "execution_count": 8,
   "metadata": {},
   "outputs": [
    {
     "name": "stdout",
     "output_type": "stream",
     "text": [
      " "
     ]
    },
    {
     "data": {
      "text/plain": [
       "         5664 function calls in 0.004 seconds\n",
       "\n",
       "   Ordered by: internal time\n",
       "\n",
       "   ncalls  tottime  percall  cumtime  percall filename:lineno(function)\n",
       "      796    0.002    0.000    0.002    0.000 utils.py:103(needs_regex)\n",
       "      796    0.001    0.000    0.004    0.000 data_structs.py:214(_re_func)\n",
       "        1    0.000    0.000    0.004    0.004 <ipython-input-7-51d9f3d37582>:2(test_sr)\n",
       "      796    0.000    0.000    0.000    0.000 data_structs.py:59(get_match_query)\n",
       "     1680    0.000    0.000    0.000    0.000 {built-in method builtins.hasattr}\n",
       "      796    0.000    0.000    0.000    0.000 boolean.py:1142(simplify)\n",
       "      796    0.000    0.000    0.000    0.000 {built-in method builtins.isinstance}\n",
       "        1    0.000    0.000    0.004    0.004 {built-in method builtins.exec}\n",
       "        1    0.000    0.000    0.004    0.004 <string>:1(<module>)\n",
       "        1    0.000    0.000    0.000    0.000 {method 'disable' of '_lsprof.Profiler' objects}"
      ]
     },
     "metadata": {},
     "output_type": "display_data"
    }
   ],
   "source": [
    "%prun test_sr()"
   ]
  },
  {
   "cell_type": "markdown",
   "metadata": {},
   "source": [
    "# inverted index"
   ]
  },
  {
   "cell_type": "code",
   "execution_count": 9,
   "metadata": {},
   "outputs": [],
   "source": [
    "def index_docs(docs=None):\n",
    "    index = {}\n",
    "    for doc_idx, doc in enumerate(docs):\n",
    "        for line_idx, line in enumerate(doc):\n",
    "            for token in sr.generate_ngram_chars(line, 2):\n",
    "                if token not in index:\n",
    "                    index[token] = set()\n",
    "                index[token].add((doc_idx, line_idx))\n",
    "    return index"
   ]
  },
  {
   "cell_type": "code",
   "execution_count": 12,
   "metadata": {},
   "outputs": [],
   "source": [
    "folder = r'E:\\Study\\my_github\\smart regex\\test\\test_data'\n",
    "docs = []\n",
    "for fname in os.listdir(folder):\n",
    "    if fname.endswith('txt'):\n",
    "        with open(os.path.join(folder, fname), encoding='utf-8') as f:\n",
    "            docs.append([l.strip() for l in f.readlines()])"
   ]
  },
  {
   "cell_type": "code",
   "execution_count": 13,
   "metadata": {},
   "outputs": [],
   "source": [
    "index = index_docs(docs)"
   ]
  },
  {
   "cell_type": "code",
   "execution_count": 14,
   "metadata": {},
   "outputs": [
    {
     "name": "stdout",
     "output_type": "stream",
     "text": [
      "12.6 ms ± 1.15 ms per loop (mean ± std. dev. of 5 runs, 1 loop each)\n"
     ]
    }
   ],
   "source": [
    "%%timeit -n 1 -r 5\n",
    "index = index_docs(docs)"
   ]
  },
  {
   "cell_type": "code",
   "execution_count": 48,
   "metadata": {},
   "outputs": [
    {
     "name": "stdout",
     "output_type": "stream",
     "text": [
      "2.61 ms ± 421 µs per loop (mean ± std. dev. of 5 runs, 1 loop each)\n"
     ]
    }
   ],
   "source": [
    "%%timeit -n 1 -r 5\n",
    "sr_results = []\n",
    "\n",
    "for sr_pat in sr_patterns:\n",
    "    mat = sr_pat.search(docs, index)"
   ]
  },
  {
   "cell_type": "code",
   "execution_count": null,
   "metadata": {},
   "outputs": [],
   "source": [
    "处理 Match_query is True 的情况"
   ]
  }
 ],
 "metadata": {
  "kernelspec": {
   "display_name": "Python 3",
   "language": "python",
   "name": "python3"
  },
  "language_info": {
   "codemirror_mode": {
    "name": "ipython",
    "version": 3
   },
   "file_extension": ".py",
   "mimetype": "text/x-python",
   "name": "python",
   "nbconvert_exporter": "python",
   "pygments_lexer": "ipython3",
   "version": "3.7.3"
  }
 },
 "nbformat": 4,
 "nbformat_minor": 4
}
