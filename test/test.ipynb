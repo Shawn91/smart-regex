{
 "cells": [
  {
   "cell_type": "code",
   "execution_count": 133,
   "metadata": {},
   "outputs": [
    {
     "name": "stdout",
     "output_type": "stream",
     "text": [
      "The autoreload extension is already loaded. To reload it, use:\n",
      "  %reload_ext autoreload\n"
     ]
    }
   ],
   "source": [
    "import re\n",
    "import sys\n",
    "import os\n",
    "import datetime\n",
    "sys.path.append('E:\\Study\\my_github\\smart regex')\n",
    "\n",
    "import smart_regex as sr\n",
    "\n",
    "# %load_ext line_profiler\n",
    "%load_ext autoreload\n",
    "%autoreload 2"
   ]
  },
  {
   "cell_type": "code",
   "execution_count": 134,
   "metadata": {},
   "outputs": [],
   "source": [
    "patterns = \"\"\"\n",
    "#gender | (软?妹 *子|萝 *莉|御 *姐|女 *王|male|female)\n",
    "#marital_status | (已 *婚|未 *婚|保 *密|(已|未)结 *婚)\n",
    "#has_children | (已 *育)\n",
    "#race | ((汉|壮|满|回|苗|维|维 *吾 *尔|土 *家|彝|蒙 *古|蒙)( *族))\n",
    "#github | ((https?://)?(www.)?github.com/(^| \\||;|.|/)+)\n",
    "#github | ((https?://)?(^| \\||;|.|/)+.github.io)\n",
    "#linkedin | ((https?://)?(www.)?linkedin.com/in/(^| \\||;|.|/)+)\n",
    "$work_year | (应 *届(毕 *业)?生)\n",
    "#college | ((大 *学|学 *院|学 *校|分 *校|中 *学|一 *中))\n",
    "#constellation | ((摩 *羯|水 *瓶|双 *鱼|白 *羊|金 *牛|双 *子)座?)\n",
    "#blood_type | ((o|a|b|ab) *型)\n",
    "#expect_jnature | (全 *职|兼 *职|实 *习)\n",
    "#job_cpy_nature | ((民 *营/私 *营)(公 *司|企 *业))\n",
    "#job_nature | (全 *职|兼 *职|实 *习)\n",
    "#job_cpy_financing_situation | ((a|b|c|d|e|a+|天 *使|天 *使+)轮)\n",
    "#job_cpy_financing_situation | ((已|不 *需 *要|无 *需|未)融 *资)\n",
    "#job_cpy_financing_situation | ((已|非|纳 *斯 *达 *克)上 *市)\n",
    "#job_cpy_financing_situation | ((h|港|美)股)\"\"\"\n",
    "patterns = [[x.strip() for x in p.split('|', 1)] for p in patterns.split('\\n') if p.startswith('#')]"
   ]
  },
  {
   "cell_type": "code",
   "execution_count": 135,
   "metadata": {},
   "outputs": [
    {
     "name": "stdout",
     "output_type": "stream",
     "text": [
      "1 ['#gender', '(软?妹 *子|萝 *莉|御 *姐|女 *王|male|female)']\n",
      "1 ['#marital_status', '(已 *婚|未 *婚|保 *密|(已|未)结 *婚)']\n",
      "1 ['#has_children', '(已 *育)']\n",
      "1 ['#race', '((汉|壮|满|回|苗|维|维 *吾 *尔|土 *家|彝|蒙 *古|蒙)( *族))']\n",
      "1 ['#github', '((https?://)?(www.)?github.com/(^| \\\\||;|.|/)+)']\n",
      "1 ['#github', '((https?://)?(^| \\\\||;|.|/)+.github.io)']\n",
      "1 ['#linkedin', '((https?://)?(www.)?linkedin.com/in/(^| \\\\||;|.|/)+)']\n",
      "1 ['#college', '((大 *学|学 *院|学 *校|分 *校|中 *学|一 *中))']\n",
      "1 ['#constellation', '((摩 *羯|水 *瓶|双 *鱼|白 *羊|金 *牛|双 *子)座?)']\n",
      "1 ['#blood_type', '((o|a|b|ab) *型)']\n",
      "1 ['#expect_jnature', '(全 *职|兼 *职|实 *习)']\n",
      "1 ['#job_cpy_nature', '((民 *营/私 *营)(公 *司|企 *业))']\n",
      "1 ['#job_nature', '(全 *职|兼 *职|实 *习)']\n",
      "1 ['#job_cpy_financing_situation', '((a|b|c|d|e|a+|天 *使|天 *使+)轮)']\n",
      "1 ['#job_cpy_financing_situation', '((已|不 *需 *要|无 *需|未)融 *资)']\n",
      "1 ['#job_cpy_financing_situation', '((已|非|纳 *斯 *达 *克)上 *市)']\n",
      "1 ['#job_cpy_financing_situation', '((h|港|美)股)']\n"
     ]
    }
   ],
   "source": [
    "re_patterns = [re.compile(pat[1]) for pat in patterns] * 3\n",
    "\n",
    "sr_patterns = []\n",
    "for pat in patterns:\n",
    "    print('1', pat)\n",
    "    try:\n",
    "        sr_patterns.append((pat[0], sr.compile(pat[1])))\n",
    "    except:\n",
    "        print(pat)\n",
    "sr_patterns = sr_patterns * 3"
   ]
  },
  {
   "cell_type": "code",
   "execution_count": 113,
   "metadata": {},
   "outputs": [],
   "source": [
    "def index_docs(docs=None):\n",
    "    index = {}\n",
    "    for doc_idx, doc in enumerate(docs):\n",
    "        for line_idx, line in enumerate(doc):\n",
    "            for token in sr.generate_ngram_chars(line, 2):\n",
    "                if token not in index:\n",
    "                    index[token] = set()\n",
    "                index[token].add((doc_idx, line_idx))\n",
    "    return index"
   ]
  },
  {
   "cell_type": "code",
   "execution_count": 114,
   "metadata": {},
   "outputs": [],
   "source": [
    "folder = r'E:\\Study\\my_github\\smart regex\\test\\test_data'\n",
    "lines = []\n",
    "for fname in os.listdir(folder):\n",
    "    if fname.endswith('txt'):\n",
    "        with open(os.path.join(folder, fname), encoding='utf-8') as f:\n",
    "            lines.extend(l.strip() for l in f.readlines())\n",
    "            \n",
    "folder = r'E:\\Study\\my_github\\smart regex\\test\\test_data'\n",
    "docs = []\n",
    "for fname in os.listdir(folder):\n",
    "    if fname.endswith('txt'):\n",
    "        with open(os.path.join(folder, fname), encoding='utf-8') as f:\n",
    "            docs.append([l.strip() for l in f.readlines()])"
   ]
  },
  {
   "cell_type": "code",
   "execution_count": 131,
   "metadata": {},
   "outputs": [
    {
     "name": "stdout",
     "output_type": "stream",
     "text": [
      "212 ms ± 3.51 ms per loop (mean ± std. dev. of 5 runs, 1 loop each)\n"
     ]
    }
   ],
   "source": [
    "%%timeit -n 1 -r 5\n",
    "# 普通正则匹配时间\n",
    "re_results = []\n",
    "for line in lines:\n",
    "    for re_pat in re_patterns:\n",
    "        mat = re_pat.search(line)\n",
    "        if mat:\n",
    "            re_results.append(mat.group())"
   ]
  },
  {
   "cell_type": "code",
   "execution_count": 132,
   "metadata": {},
   "outputs": [
    {
     "name": "stdout",
     "output_type": "stream",
     "text": [
      "54.5 ms ± 2.52 ms per loop (mean ± std. dev. of 5 runs, 1 loop each)\n"
     ]
    }
   ],
   "source": [
    "%%timeit -n 1 -r 5\n",
    "# smart regex 匹配时间\n",
    "index = index_docs(docs)\n",
    "\n",
    "# sr_results_time = {}\n",
    "sr_results = []\n",
    "for sr_pat in sr_patterns:\n",
    "#     now = datetime.datetime.now()\n",
    "    mat = sr_pat[1].search(docs, index)\n",
    "    for m in mat:\n",
    "        sr_results.append(m[2].group())\n",
    "#     sr_results_time[sr_pat] = (datetime.datetime.now() - now)"
   ]
  },
  {
   "cell_type": "code",
   "execution_count": 118,
   "metadata": {},
   "outputs": [
    {
     "name": "stdout",
     "output_type": "stream",
     "text": [
      "102\n",
      "102\n",
      "True\n"
     ]
    }
   ],
   "source": [
    "print(len(re_results))\n",
    "print(len(sr_results))\n",
    "print(set(re_results)==set(sr_results))"
   ]
  },
  {
   "cell_type": "code",
   "execution_count": 125,
   "metadata": {},
   "outputs": [
    {
     "name": "stdout",
     "output_type": "stream",
     "text": [
      "2.25 ms ± 365 µs per loop (mean ± std. dev. of 5 runs, 1 loop each)\n"
     ]
    }
   ],
   "source": []
  },
  {
   "cell_type": "code",
   "execution_count": 11,
   "metadata": {
    "collapsed": true,
    "jupyter": {
     "outputs_hidden": true
    }
   },
   "outputs": [
    {
     "data": {
      "text/plain": [
       "[(('#polit_status', <data_structs.Expression at 0x1c0a7f6ad30>),\n",
       "  datetime.timedelta(seconds=1, microseconds=805306)),\n",
       " (('#name', <data_structs.Expression at 0x1c0a4dfadd8>),\n",
       "  datetime.timedelta(microseconds=714093)),\n",
       " (('#edu_recruit', <data_structs.Expression at 0x1c0bbdf9470>),\n",
       "  datetime.timedelta(microseconds=549556)),\n",
       " (('#degree', <data_structs.Expression at 0x1c0b2f54748>),\n",
       "  datetime.timedelta(microseconds=494676)),\n",
       " (('#work_year', <data_structs.Expression at 0x1c0ab6daa20>),\n",
       "  datetime.timedelta(microseconds=198446)),\n",
       " (('#job_dept', <data_structs.Expression at 0x1c0bd271860>),\n",
       "  datetime.timedelta(microseconds=164560)),\n",
       " (('#weight', <data_structs.Expression at 0x1c0a5c472e8>),\n",
       "  datetime.timedelta(microseconds=146608)),\n",
       " (('#grad_time', <data_structs.Expression at 0x1c0abcc1438>),\n",
       "  datetime.timedelta(microseconds=141620)),\n",
       " (('#race', <data_structs.Expression at 0x1c0a5d48588>),\n",
       "  datetime.timedelta(microseconds=140624)),\n",
       " (('#edu_time', <data_structs.Expression at 0x1c0bb5941d0>),\n",
       "  datetime.timedelta(microseconds=107712)),\n",
       " (('#job_cpy_financing_situation', <data_structs.Expression at 0x1c0bf3934e0>),\n",
       "  datetime.timedelta(microseconds=96741)),\n",
       " (('#height', <data_structs.Expression at 0x1c0c42584a8>),\n",
       "  datetime.timedelta(microseconds=63829)),\n",
       " (('#gender', <data_structs.Expression at 0x1c0a4f22438>),\n",
       "  datetime.timedelta(microseconds=60836)),\n",
       " (('#edu_time', <data_structs.Expression at 0x1c0bb8b7f60>),\n",
       "  datetime.timedelta(microseconds=59840)),\n",
       " (('#constellation', <data_structs.Expression at 0x1c0bb4b4400>),\n",
       "  datetime.timedelta(microseconds=47873)),\n",
       " (('#job_cpy_financing_situation', <data_structs.Expression at 0x1c0bf1909b0>),\n",
       "  datetime.timedelta(microseconds=30887)),\n",
       " (('#github', <data_structs.Expression at 0x1c0ab264a90>),\n",
       "  datetime.timedelta(microseconds=29948)),\n",
       " (('#job_cpy_nature', <data_structs.Expression at 0x1c0bd189b38>),\n",
       "  datetime.timedelta(microseconds=25927)),\n",
       " (('#linkedin', <data_structs.Expression at 0x1c0ab36d400>),\n",
       "  datetime.timedelta(microseconds=17949)),\n",
       " (('#github', <data_structs.Expression at 0x1c0ab1d79b0>),\n",
       "  datetime.timedelta(microseconds=15929)),\n",
       " (('#college', <data_structs.Expression at 0x1c0abc97940>),\n",
       "  datetime.timedelta(microseconds=13962)),\n",
       " (('#job_cpy_financing_situation', <data_structs.Expression at 0x1c0bd976630>),\n",
       "  datetime.timedelta(microseconds=12964)),\n",
       " (('#marital_status', <data_structs.Expression at 0x1c0a5c47940>),\n",
       "  datetime.timedelta(microseconds=10975)),\n",
       " (('#blood_type', <data_structs.Expression at 0x1c0bb53efd0>),\n",
       "  datetime.timedelta(microseconds=6981)),\n",
       " (('#expect_jnature', <data_structs.Expression at 0x1c0bb9f1320>),\n",
       "  datetime.timedelta(microseconds=5989)),\n",
       " (('#job_nature', <data_structs.Expression at 0x1c0bdd992e8>),\n",
       "  datetime.timedelta(microseconds=4991)),\n",
       " (('#job_cpy_financing_situation', <data_structs.Expression at 0x1c0b893e908>),\n",
       "  datetime.timedelta(microseconds=4988)),\n",
       " (('#has_children', <data_structs.Expression at 0x1c0b893e940>),\n",
       "  datetime.timedelta(microseconds=3985))]"
      ]
     },
     "execution_count": 11,
     "metadata": {},
     "output_type": "execute_result"
    }
   ],
   "source": [
    "sorted(sr_results_time.items(), key=lambda x:x[1], reverse=True)"
   ]
  },
  {
   "cell_type": "code",
   "execution_count": 77,
   "metadata": {
    "collapsed": true,
    "jupyter": {
     "outputs_hidden": true
    }
   },
   "outputs": [
    {
     "name": "stdout",
     "output_type": "stream",
     "text": [
      " "
     ]
    },
    {
     "data": {
      "text/plain": [
       "         10365420 function calls (10263522 primitive calls) in 3.848 seconds\n",
       "\n",
       "   Ordered by: internal time\n",
       "\n",
       "   ncalls  tottime  percall  cumtime  percall filename:lineno(function)\n",
       "     2379    0.578    0.000    2.678    0.001 boolean.py:1287(absorb)\n",
       "  1489490    0.464    0.000    0.600    0.000 boolean.py:892(__eq__)\n",
       "1214042/1213655    0.412    0.000    0.596    0.000 boolean.py:728(__eq__)\n",
       "  4291588    0.403    0.000    0.404    0.000 {built-in method builtins.isinstance}\n",
       "   269622    0.390    0.000    1.026    0.000 boolean.py:1132(__contains__)\n",
       "   276616    0.304    0.000    0.591    0.000 boolean.py:935(__init__)\n",
       " 4059/503    0.279    0.000    3.811    0.008 boolean.py:1142(simplify)\n",
       "   262640    0.257    0.000    0.822    0.000 boolean.py:1030(__init__)\n",
       "   370126    0.170    0.000    0.472    0.000 {built-in method builtins.all}\n",
       "   591619    0.120    0.000    0.153    0.000 boolean.py:941(<genexpr>)\n",
       "   245480    0.095    0.000    0.120    0.000 boolean.py:1065(cancel)\n",
       "   164679    0.066    0.000    0.148    0.000 boolean.py:1140(<genexpr>)\n",
       "   186353    0.048    0.000    0.065    0.000 boolean.py:887(__hash__)\n",
       "48625/3872    0.041    0.000    0.083    0.000 boolean.py:600(literalize)\n",
       "   461078    0.037    0.000    0.037    0.000 {built-in method builtins.len}\n",
       "     9815    0.024    0.000    0.046    0.000 boolean.py:1402(__lt__)\n",
       "61435/11616    0.019    0.000    0.071    0.000 boolean.py:607(<genexpr>)\n",
       "   187901    0.017    0.000    0.017    0.000 {built-in method builtins.hash}\n",
       "    13976    0.015    0.000    0.066    0.000 boolean.py:1117(__init__)\n",
       "    17019    0.012    0.000    0.019    0.000 boolean.py:899(__lt__)\n",
       "    61435    0.012    0.000    0.012    0.000 boolean.py:608(<genexpr>)\n",
       "     8382    0.010    0.000    0.043    0.000 boolean.py:1439(__init__)\n",
       "    26834    0.010    0.000    0.010    0.000 boolean.py:752(__lt__)\n",
       "     3872    0.009    0.000    0.037    0.000 boolean.py:1269(flatten)\n",
       "     5594    0.009    0.000    0.042    0.000 boolean.py:1463(__init__)\n",
       "     2360    0.006    0.000    0.062    0.000 {method 'sort' of 'list' objects}\n",
       "    19560    0.006    0.000    0.008    0.000 boolean.py:852(__eq__)\n",
       "    18360    0.006    0.000    0.008    0.000 boolean.py:827(__eq__)\n",
       " 3872/503    0.005    0.000    3.552    0.007 boolean.py:1167(<listcomp>)\n",
       "      222    0.003    0.000    3.762    0.017 utils.py:67(generate_ngram_chars_logic_exp)\n",
       "    19505    0.002    0.000    0.002    0.000 {method 'append' of 'list' objects}\n",
       "      879    0.002    0.000    0.014    0.000 boolean_operations.py:10(AND)\n",
       "     8440    0.002    0.000    0.002    0.000 {built-in method builtins.min}\n",
       "     2532    0.002    0.000    0.002    0.000 boolean.py:880(__init__)\n",
       "      222    0.002    0.000    3.781    0.017 data_structs.py:118(save_information)\n",
       "     1476    0.002    0.000    0.003    0.000 utils.py:45(generate_ngram_chars)\n",
       "      774    0.001    0.000    0.002    0.000 boolean.py:714(__hash__)\n",
       "     1296    0.001    0.000    0.003    0.000 utils.py:98(<listcomp>)\n",
       "     1296    0.001    0.000    0.001    0.000 utils.py:54(<listcomp>)\n",
       "      222    0.001    0.000    0.003    0.000 utils.py:64(<listcomp>)\n",
       "      296    0.001    0.000    0.078    0.000 data_structs.py:115(set_match)\n",
       "     4293    0.001    0.000    0.001    0.000 boolean.py:704(simplify)\n",
       "       45    0.000    0.000    0.046    0.001 operators.py:10(concat_two_exps)\n",
       "      834    0.000    0.000    0.000    0.000 {built-in method _abc._abc_instancecheck}\n",
       "     15/1    0.000    0.000    3.848    3.848 compile.py:36(compile_tokens_to_expression)\n",
       "      957    0.000    0.000    0.000    0.000 {method 'remove' of 'list' objects}\n",
       "      222    0.000    0.000    0.000    0.000 data_structs.py:143(discard_information)\n",
       "      834    0.000    0.000    0.001    0.000 abc.py:137(__instancecheck__)\n",
       "       90    0.000    0.000    0.000    0.000 data_structs.py:75(get_match_query)\n",
       "       74    0.000    0.000    1.282    0.017 data_structs.py:94(set_exact)\n",
       "       14    0.000    0.000    3.796    0.271 operators.py:52(handle_alter)\n",
       "       74    0.000    0.000    1.235    0.017 data_structs.py:102(set_prefix)\n",
       "       74    0.000    0.000    1.264    0.017 data_structs.py:107(set_suffix)\n",
       "      119    0.000    0.000    0.000    0.000 data_structs.py:59(__init__)\n",
       "      105    0.000    0.000    0.000    0.000 data_structs.py:30(to_exp)\n",
       "      222    0.000    0.000    0.001    0.000 boolean.py:765(__and__)\n",
       "      134    0.000    0.000    0.000    0.000 data_structs.py:12(__init__)\n",
       "      135    0.000    0.000    0.000    0.000 utils.py:27(concat_strings_in_two_containers)\n",
       "      135    0.000    0.000    0.000    0.000 utils.py:42(<listcomp>)\n",
       "      222    0.000    0.000    0.003    0.000 utils.py:57(generate_ngram_chars_for_str_lists)\n",
       "       29    0.000    0.000    0.046    0.002 operators.py:41(concat_exps)\n",
       "      102    0.000    0.000    0.000    0.000 {method 'union' of 'set' objects}\n",
       "        1    0.000    0.000    0.000    0.000 compile.py:12(convert_exp_str_to_tokens)\n",
       "       60    0.000    0.000    0.000    0.000 data_structs.py:156(create_empty_expression)\n",
       "       15    0.000    0.000    0.006    0.000 operators.py:73(handle_star)\n",
       "      300    0.000    0.000    0.000    0.000 {method 'join' of 'str' objects}\n",
       "       74    0.000    0.000    0.000    0.000 data_structs.py:133(_clear_exact)\n",
       "       74    0.000    0.000    0.000    0.000 data_structs.py:112(set_emptyable)\n",
       "        1    0.000    0.000    3.848    3.848 <string>:1(<module>)\n",
       "        1    0.000    0.000    3.848    3.848 {built-in method builtins.exec}\n",
       "       74    0.000    0.000    0.000    0.000 data_structs.py:137(_clean_prefix)\n",
       "       30    0.000    0.000    0.000    0.000 operators.py:75(<genexpr>)\n",
       "       74    0.000    0.000    0.000    0.000 data_structs.py:140(_clean_suffix)\n",
       "       15    0.000    0.000    0.000    0.000 {method 'pop' of 'list' objects}\n",
       "        1    0.000    0.000    0.000    0.000 {method 'disable' of '_lsprof.Profiler' objects}"
      ]
     },
     "metadata": {},
     "output_type": "display_data"
    }
   ],
   "source": [
    "%prun sr.compile_tokens_to_expression('欧 *阳|独 *孤|令 *狐|皇 *甫|夏 *侯|呼 *延|诸 *葛|完 *颜|拓 *跋|公 *孙|宇 *文|北 *野|欧 *文|上 *官|端 *木')"
   ]
  },
  {
   "cell_type": "code",
   "execution_count": 108,
   "metadata": {},
   "outputs": [
    {
     "data": {
      "text/plain": [
       "[]"
      ]
     },
     "execution_count": 108,
     "metadata": {},
     "output_type": "execute_result"
    }
   ],
   "source": [
    "re_results = []\n",
    "i = 19\n",
    "for re_pat in re_patterns[i:i+1]:\n",
    "    for line in lines:\n",
    "        mat = re_pat.search(line)\n",
    "        if mat:\n",
    "            re_results.append(mat.group())\n",
    "re_results"
   ]
  },
  {
   "cell_type": "code",
   "execution_count": 109,
   "metadata": {},
   "outputs": [
    {
     "data": {
      "text/plain": [
       "[]"
      ]
     },
     "execution_count": 109,
     "metadata": {},
     "output_type": "execute_result"
    }
   ],
   "source": [
    "sr_results = []\n",
    "for sr_pat in sr_patterns[i:i+1]:\n",
    "    mat = sr_pat[1].search(docs, index)\n",
    "    for m in mat:\n",
    "        sr_results.append(m[2].group())\n",
    "sr_results"
   ]
  },
  {
   "cell_type": "code",
   "execution_count": 79,
   "metadata": {},
   "outputs": [
    {
     "name": "stdout",
     "output_type": "stream",
     "text": [
      "github:https://github.com/zhaoxiaoxiao\n",
      "<re.Match object; span=(7, 38), match='https://github.com/zhaoxiaoxiao'>\n",
      "\n",
      "\n",
      "========\n",
      ".c&b.&co&gi&hu&it&m/&om&th&ub&(( |&.c&/ &b.&co&gi&hu&it&m/&om&th&ub)|(.c&//&b.&co&gi&hu&it&m/&om&th&ub)|(.c&/;&b.&co&gi&hu&it&m/&om&th&ub)|(.c&/^&b.&co&gi&hu&it&m/&om&th&ub))\n",
      "(0, 29, <re.Match object; span=(7, 38), match='https://github.com/zhaoxiaoxiao'>)\n"
     ]
    }
   ],
   "source": [
    "pat = '(https?://)?(www.)?github\\.com/(^| \\||;|.|/)+'\n",
    "re_pat = re.compile(pat)\n",
    "sr_pat = sr.compile(pat)\n",
    "for line in lines:\n",
    "    mat = re_pat.search(line)\n",
    "    if mat:\n",
    "        print(line)\n",
    "        print(mat)\n",
    "        print('\\n')\n",
    "print('========')\n",
    "print(sr_pat.get_match_query())\n",
    "mats = sr_pat.search(docs, index)\n",
    "for m in mats:\n",
    "    print(m)"
   ]
  },
  {
   "cell_type": "code",
   "execution_count": null,
   "metadata": {},
   "outputs": [],
   "source": []
  }
 ],
 "metadata": {
  "kernelspec": {
   "display_name": "Python 3",
   "language": "python",
   "name": "python3"
  },
  "language_info": {
   "codemirror_mode": {
    "name": "ipython",
    "version": 3
   },
   "file_extension": ".py",
   "mimetype": "text/x-python",
   "name": "python",
   "nbconvert_exporter": "python",
   "pygments_lexer": "ipython3",
   "version": "3.7.3"
  }
 },
 "nbformat": 4,
 "nbformat_minor": 4
}
